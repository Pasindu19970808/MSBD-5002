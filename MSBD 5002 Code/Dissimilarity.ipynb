{
 "cells": [
  {
   "cell_type": "code",
   "execution_count": 2,
   "source": [
    "import numpy as np\r\n",
    "import pandas as pd"
   ],
   "outputs": [],
   "metadata": {}
  },
  {
   "cell_type": "code",
   "execution_count": 3,
   "source": [
    "data = dict()\r\n",
    "data[\"Test1\"] = [\"CodeA\", \"CodeB\",\"CodeC\",\"CodeA\"]\r\n",
    "data[\"Test2\"] = [\"ex\",\"fa\",\"go\",\"ex\"]\r\n",
    "data[\"Test3\"] = [45,22,64,28]\r\n",
    "df = pd.DataFrame(data = data)\r\n",
    "df"
   ],
   "outputs": [
    {
     "output_type": "execute_result",
     "data": {
      "text/plain": [
       "   Test1 Test2  Test3\n",
       "0  CodeA    ex     45\n",
       "1  CodeB    fa     22\n",
       "2  CodeC    go     64\n",
       "3  CodeA    ex     28"
      ],
      "text/html": [
       "<div>\n",
       "<style scoped>\n",
       "    .dataframe tbody tr th:only-of-type {\n",
       "        vertical-align: middle;\n",
       "    }\n",
       "\n",
       "    .dataframe tbody tr th {\n",
       "        vertical-align: top;\n",
       "    }\n",
       "\n",
       "    .dataframe thead th {\n",
       "        text-align: right;\n",
       "    }\n",
       "</style>\n",
       "<table border=\"1\" class=\"dataframe\">\n",
       "  <thead>\n",
       "    <tr style=\"text-align: right;\">\n",
       "      <th></th>\n",
       "      <th>Test1</th>\n",
       "      <th>Test2</th>\n",
       "      <th>Test3</th>\n",
       "    </tr>\n",
       "  </thead>\n",
       "  <tbody>\n",
       "    <tr>\n",
       "      <th>0</th>\n",
       "      <td>CodeA</td>\n",
       "      <td>ex</td>\n",
       "      <td>45</td>\n",
       "    </tr>\n",
       "    <tr>\n",
       "      <th>1</th>\n",
       "      <td>CodeB</td>\n",
       "      <td>fa</td>\n",
       "      <td>22</td>\n",
       "    </tr>\n",
       "    <tr>\n",
       "      <th>2</th>\n",
       "      <td>CodeC</td>\n",
       "      <td>go</td>\n",
       "      <td>64</td>\n",
       "    </tr>\n",
       "    <tr>\n",
       "      <th>3</th>\n",
       "      <td>CodeA</td>\n",
       "      <td>ex</td>\n",
       "      <td>28</td>\n",
       "    </tr>\n",
       "  </tbody>\n",
       "</table>\n",
       "</div>"
      ]
     },
     "metadata": {},
     "execution_count": 3
    }
   ],
   "metadata": {}
  },
  {
   "cell_type": "code",
   "execution_count": 13,
   "source": [
    "test1_unique = np.unique(np.array(df[\"Test1\"]))\r\n",
    "mapped_test1 = {i:j for j,i in zip(range(test1_unique.shape[0]),test1_unique)}\r\n",
    "test1 = np.array(df[\"Test1\"])\r\n",
    "for j in range(test1.shape[0]):\r\n",
    "        test1[j] = mapped_test1[test1[j]]\r\n",
    "\r\n",
    "dissimilarity_test1 = np.zeros(shape = (test1.shape[0],test1.shape[0]))\r\n",
    "for i in range(test1.shape[0]):\r\n",
    "    for j in range(i+1,test1.shape[0]):\r\n",
    "        dissimilarity_test1[j,i] = (1 - np.where((test1[i] - test[j]) == 0)\r\n",
    "\r\n",
    "\r\n",
    "test3 = np.array(df[\"Test3\"])\r\n",
    "dissimilarity_test3 = np.zeros(shape = (test3.shape[0],test3.shape[0]))\r\n",
    "for i in range(test3.shape[0]):\r\n",
    "    for j in range(i+1,test3.shape[0]):\r\n",
    "        dissimilarity_test3[j,i] = round(abs(test3[i] - test3[j])/(max(test3) - min(test3)),2)\r\n",
    "\r\n"
   ],
   "outputs": [],
   "metadata": {}
  },
  {
   "cell_type": "code",
   "execution_count": 24,
   "source": [
    "test1_unique = np.unique(np.array(df[\"Test1\"]))\r\n",
    "mapped_test1 = {i:j for j,i in zip(range(test1_unique.shape[0]),test1_unique)}\r\n",
    "test1 = np.array(df[\"Test1\"])\r\n",
    "for j in range(test1.shape[0]):\r\n",
    "        test1[j] = mapped_test1[test1[j]]\r\n",
    "test1"
   ],
   "outputs": [
    {
     "output_type": "execute_result",
     "data": {
      "text/plain": [
       "array([0, 1, 2, 0], dtype=object)"
      ]
     },
     "metadata": {},
     "execution_count": 24
    }
   ],
   "metadata": {}
  },
  {
   "cell_type": "code",
   "execution_count": 14,
   "source": [
    "dissimilarity_test3"
   ],
   "outputs": [
    {
     "output_type": "execute_result",
     "data": {
      "text/plain": [
       "array([[0.  , 0.  , 0.  , 0.  ],\n",
       "       [0.55, 0.  , 0.  , 0.  ],\n",
       "       [0.45, 1.  , 0.  , 0.  ],\n",
       "       [0.4 , 0.14, 0.86, 0.  ]])"
      ]
     },
     "metadata": {},
     "execution_count": 14
    }
   ],
   "metadata": {}
  },
  {
   "cell_type": "code",
   "execution_count": null,
   "source": [],
   "outputs": [],
   "metadata": {}
  }
 ],
 "metadata": {
  "orig_nbformat": 4,
  "language_info": {
   "name": "python",
   "version": "3.8.8",
   "mimetype": "text/x-python",
   "codemirror_mode": {
    "name": "ipython",
    "version": 3
   },
   "pygments_lexer": "ipython3",
   "nbconvert_exporter": "python",
   "file_extension": ".py"
  },
  "kernelspec": {
   "name": "python3",
   "display_name": "Python 3.8.8 64-bit"
  },
  "interpreter": {
   "hash": "965ba1120b0c101b3f715b6e258a73742ec1cf86f2c8b04492724c87d9f112c3"
  }
 },
 "nbformat": 4,
 "nbformat_minor": 2
}