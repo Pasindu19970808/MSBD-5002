{
 "cells": [
  {
   "cell_type": "code",
   "execution_count": 3,
   "source": [
    "import re\r\n",
    "candidates = '{1 2 3 }, {1 4 5}, {1 2 4}, {1 2 5}, {1 5 9}, {1 3 6},{2 3 4}, {2 5 9},{3 4 5}, {3 5 6}, {3 5 9}, {3 8 9}, {3 2 6},{4 5 7}, {4 1 8}, {4 7 8}, {4 6 7},{6 1 3}, {6 3 4}, {6 8 9}, {6 2 1}, {6 4 3}, {6 7 9},{8 2 4}, {8 9 1}, {8 3 6}, {8 3 7}, {8 4 7}, {8 5 1}, {8 3 1}, {8 6 2}'\r\n",
    "#candidates = '{1 4 5}, {1 2 4}, {4 5 7}, {1 2 5}, {4 5 8}, {1 5 9}, {1 3 6}, {2 3 4}, {5 6 7},{3 4 5}, {3 5 6}, {3 5 7}, {6 8 9}, {3 6 7}, {3 6 8}'\r\n",
    "res = [int(i) for i in re.findall(r'[^{},]',candidates) if i != ' ']\r\n",
    "interval = int(len(res)/3)\r\n",
    "res_final = [res[3*int(i):3*int(i+1)] for i in range(0,interval)]"
   ],
   "outputs": [],
   "metadata": {}
  },
  {
   "cell_type": "code",
   "execution_count": 12,
   "source": [
    "x = list()\r\n",
    "\r\n",
    "[x.append(i) for i in list(map(sorted, res_final)) if i not in x]\r\n",
    "len(x)\r\n",
    "x"
   ],
   "outputs": [
    {
     "output_type": "execute_result",
     "data": {
      "text/plain": [
       "[[1, 2, 3],\n",
       " [1, 4, 5],\n",
       " [1, 2, 4],\n",
       " [1, 2, 5],\n",
       " [1, 5, 9],\n",
       " [1, 3, 6],\n",
       " [2, 3, 4],\n",
       " [2, 5, 9],\n",
       " [3, 4, 5],\n",
       " [3, 5, 6],\n",
       " [3, 5, 9],\n",
       " [3, 8, 9],\n",
       " [2, 3, 6],\n",
       " [4, 5, 7],\n",
       " [1, 4, 8],\n",
       " [4, 7, 8],\n",
       " [4, 6, 7],\n",
       " [3, 4, 6],\n",
       " [6, 8, 9],\n",
       " [1, 2, 6],\n",
       " [6, 7, 9],\n",
       " [2, 4, 8],\n",
       " [1, 8, 9],\n",
       " [3, 6, 8],\n",
       " [3, 7, 8],\n",
       " [1, 5, 8],\n",
       " [1, 3, 8],\n",
       " [2, 6, 8]]"
      ]
     },
     "metadata": {},
     "execution_count": 12
    }
   ],
   "metadata": {}
  },
  {
   "cell_type": "code",
   "execution_count": 148,
   "source": [
    "res_final"
   ],
   "outputs": [
    {
     "output_type": "execute_result",
     "data": {
      "text/plain": [
       "[[1, 4, 5],\n",
       " [1, 2, 4],\n",
       " [4, 5, 7],\n",
       " [1, 2, 5],\n",
       " [4, 5, 8],\n",
       " [1, 5, 9],\n",
       " [1, 3, 6],\n",
       " [2, 3, 4],\n",
       " [5, 6, 7],\n",
       " [3, 4, 5],\n",
       " [3, 5, 6],\n",
       " [3, 5, 7],\n",
       " [6, 8, 9],\n",
       " [3, 6, 7],\n",
       " [3, 6, 8]]"
      ]
     },
     "metadata": {},
     "execution_count": 148
    }
   ],
   "metadata": {}
  },
  {
   "cell_type": "code",
   "execution_count": 238,
   "source": [
    "class root:\r\n",
    "    def __init__(self):\r\n",
    "        self.remainderone = None\r\n",
    "        self.remaindertwo = None\r\n",
    "        self.remainderzero = None\r\n",
    "        \r\n",
    "class remainderZeroNode:\r\n",
    "    def __init__(self):\r\n",
    "        self.content = None\r\n",
    "        self.remainderone = None\r\n",
    "        self.remaindertwo = None\r\n",
    "        self.remainderzero = None\r\n",
    "        self.complete = False\r\n",
    "\r\n",
    "class remainderOneNode:\r\n",
    "    def __init__(self):\r\n",
    "        self.content = None\r\n",
    "        self.remainderone = None\r\n",
    "        self.remaindertwo = None\r\n",
    "        self.remainderzero = None\r\n",
    "        self.complete = False\r\n",
    "\r\n",
    "class remainderTwoNode:\r\n",
    "    def __init__(self):\r\n",
    "        self.content = None\r\n",
    "        self.remainderone = None\r\n",
    "        self.remaindertwo = None\r\n",
    "        self.remainderzero = None\r\n",
    "        self.complete = False"
   ],
   "outputs": [],
   "metadata": {}
  },
  {
   "cell_type": "code",
   "execution_count": 239,
   "source": [
    "def create_hashtree(candidateset,node = None, sort = False, max_leafsize = 3,depth = 0):\r\n",
    "    if sort == True:\r\n",
    "        candidateset = [sorted(i) for i in candidateset]\r\n",
    "    if depth == 0:\r\n",
    "        node.remainderone = remainderOneNode()\r\n",
    "        node.remaindertwo  = remainderTwoNode()\r\n",
    "        node.remainderzero  = remainderZeroNode()\r\n",
    "        node.remainderone.content = [i for i in candidateset if i[0]%3 == 1]\r\n",
    "        node.remaindertwo.content = [i for i in candidateset if i[0]%3 == 2]\r\n",
    "        node.remainderzero.content = [i for i in candidateset if i[0]%3 == 0]\r\n",
    "    else:\r\n",
    "        node.remainderone = remainderOneNode()\r\n",
    "        node.remaindertwo  = remainderTwoNode()\r\n",
    "        node.remainderzero  = remainderZeroNode()\r\n",
    "        node.remainderone.content = [i for i in candidateset if i[depth]%3 == 1]\r\n",
    "        node.remaindertwo.content = [i for i in candidateset if i[depth]%3 == 2]\r\n",
    "        node.remainderzero.content = [i for i in candidateset if i[depth]%3 == 0]\r\n",
    "\r\n",
    "    if (len(node.remainderone.content) > max_leafsize) & (depth < 2):\r\n",
    "        create_hashtree(candidateset = node.remainderone.content, node = node.remainderone, depth = depth + 1)\r\n",
    "    else:\r\n",
    "        node.remainderone.complete = True\r\n",
    "    if (len(node.remaindertwo.content) > max_leafsize) & (depth < 2):\r\n",
    "        create_hashtree(candidateset = node.remaindertwo.content, node = node.remaindertwo, depth = depth + 1)\r\n",
    "    else:\r\n",
    "        node.remaindertwo.complete = True\r\n",
    "    if (len(node.remainderzero.content) > max_leafsize) & (depth < 2):\r\n",
    "        create_hashtree(candidateset = node.remainderzero.content, node = node.remainderzero, depth = depth + 1)\r\n",
    "    else:\r\n",
    "        node.remainderzero.complete = True"
   ],
   "outputs": [],
   "metadata": {}
  },
  {
   "cell_type": "code",
   "execution_count": 240,
   "source": [
    "rootnode = root()\r\n",
    "create_hashtree(res_final,node = rootnode, sort = False, max_leafsize = 3,depth = 0)"
   ],
   "outputs": [],
   "metadata": {}
  },
  {
   "cell_type": "code",
   "execution_count": 241,
   "source": [
    "rootnode.remainderone.content"
   ],
   "outputs": [
    {
     "output_type": "execute_result",
     "data": {
      "text/plain": [
       "[[1, 4, 5], [1, 2, 4], [4, 5, 7], [1, 2, 5], [4, 5, 8], [1, 5, 9], [1, 3, 6]]"
      ]
     },
     "metadata": {},
     "execution_count": 241
    }
   ],
   "metadata": {}
  },
  {
   "cell_type": "code",
   "execution_count": 242,
   "source": [
    "rootnode.remaindertwo.content"
   ],
   "outputs": [
    {
     "output_type": "execute_result",
     "data": {
      "text/plain": [
       "[[2, 3, 4], [5, 6, 7]]"
      ]
     },
     "metadata": {},
     "execution_count": 242
    }
   ],
   "metadata": {}
  },
  {
   "cell_type": "code",
   "execution_count": 243,
   "source": [
    "rootnode.remainderone.remainderone.content"
   ],
   "outputs": [
    {
     "output_type": "execute_result",
     "data": {
      "text/plain": [
       "[[1, 4, 5]]"
      ]
     },
     "metadata": {},
     "execution_count": 243
    }
   ],
   "metadata": {}
  },
  {
   "cell_type": "code",
   "execution_count": 253,
   "source": [
    "rootnode.remainderone.remaindertwo.content"
   ],
   "outputs": [
    {
     "output_type": "execute_result",
     "data": {
      "text/plain": [
       "[[1, 2, 4], [4, 5, 7], [1, 2, 5], [4, 5, 8], [1, 5, 9]]"
      ]
     },
     "metadata": {},
     "execution_count": 253
    }
   ],
   "metadata": {}
  },
  {
   "cell_type": "code",
   "execution_count": 254,
   "source": [
    "rootnode.remainderone.remaindertwo.content"
   ],
   "outputs": [
    {
     "output_type": "execute_result",
     "data": {
      "text/plain": [
       "[[1, 2, 4], [4, 5, 7], [1, 2, 5], [4, 5, 8], [1, 5, 9]]"
      ]
     },
     "metadata": {},
     "execution_count": 254
    }
   ],
   "metadata": {}
  },
  {
   "cell_type": "code",
   "execution_count": 246,
   "source": [
    "rootnode.remainderone.remaindertwo.remaindertwo.content"
   ],
   "outputs": [
    {
     "output_type": "execute_result",
     "data": {
      "text/plain": [
       "[[1, 2, 5], [4, 5, 8]]"
      ]
     },
     "metadata": {},
     "execution_count": 246
    }
   ],
   "metadata": {}
  },
  {
   "cell_type": "code",
   "execution_count": 247,
   "source": [
    "rootnode.remainderone.remaindertwo.remainderzero.content"
   ],
   "outputs": [
    {
     "output_type": "execute_result",
     "data": {
      "text/plain": [
       "[[1, 5, 9]]"
      ]
     },
     "metadata": {},
     "execution_count": 247
    }
   ],
   "metadata": {}
  },
  {
   "cell_type": "code",
   "execution_count": 248,
   "source": [
    "rootnode.remainderzero.remainderone.content"
   ],
   "outputs": [
    {
     "output_type": "execute_result",
     "data": {
      "text/plain": [
       "[[3, 4, 5]]"
      ]
     },
     "metadata": {},
     "execution_count": 248
    }
   ],
   "metadata": {}
  },
  {
   "cell_type": "code",
   "execution_count": 249,
   "source": [
    "rootnode.remainderzero.remaindertwo.content"
   ],
   "outputs": [
    {
     "output_type": "execute_result",
     "data": {
      "text/plain": [
       "[[3, 5, 6], [3, 5, 7], [6, 8, 9]]"
      ]
     },
     "metadata": {},
     "execution_count": 249
    }
   ],
   "metadata": {}
  },
  {
   "cell_type": "code",
   "execution_count": 250,
   "source": [
    "rootnode.remainderzero.remainderzero.content"
   ],
   "outputs": [
    {
     "output_type": "execute_result",
     "data": {
      "text/plain": [
       "[[3, 6, 7], [3, 6, 8]]"
      ]
     },
     "metadata": {},
     "execution_count": 250
    }
   ],
   "metadata": {}
  },
  {
   "cell_type": "code",
   "execution_count": 255,
   "source": [
    "import copy\r\n",
    "def output_hashtree(result,node = None):\r\n",
    "    if len(result) == 0:\r\n",
    "        for attr in node.__dict__:\r\n",
    "            result.append(getattr(node,attr))\r\n",
    "        output_hashtree(result,node)\r\n",
    "    else:\r\n",
    "        for i in range(len(result)):\r\n",
    "            if result[i].complete == True:\r\n",
    "                result[i] = result[i].content\r\n",
    "            else:\r\n",
    "                obj = copy.deepcopy(result[i])\r\n",
    "                result[i] = list()\r\n",
    "                for attr in list(obj.__dict__.keys())[1:-1]:\r\n",
    "                    result[i].append(getattr(obj,attr))\r\n",
    "                output_hashtree(result=result[i])"
   ],
   "outputs": [],
   "metadata": {}
  },
  {
   "cell_type": "code",
   "execution_count": 256,
   "source": [
    "result = list()\r\n",
    "output_hashtree(result, node = rootnode)\r\n",
    "print(result)"
   ],
   "outputs": [
    {
     "output_type": "stream",
     "name": "stdout",
     "text": [
      "[[[[1, 4, 5]], [[[1, 2, 4], [4, 5, 7]], [[1, 2, 5], [4, 5, 8]], [[1, 5, 9]]], [[1, 3, 6]]], [[2, 3, 4], [5, 6, 7]], [[[3, 4, 5]], [[3, 5, 6], [3, 5, 7], [6, 8, 9]], [[3, 6, 7], [3, 6, 8]]]]\n"
     ]
    }
   ],
   "metadata": {}
  },
  {
   "cell_type": "code",
   "execution_count": null,
   "source": [
    "res = list()\r\n",
    "for attr in rootnode.__dict__:\r\n",
    "    res.append(getattr(rootnode,attr))\r\n",
    "res"
   ],
   "outputs": [
    {
     "output_type": "execute_result",
     "data": {
      "text/plain": [
       "[<__main__.remainderZeroNode at 0x2711052ae50>,\n",
       " <__main__.remainderOneNode at 0x2711043d490>,\n",
       " <__main__.remainderTwoNode at 0x2711043d0a0>]"
      ]
     },
     "metadata": {},
     "execution_count": 202
    }
   ],
   "metadata": {}
  },
  {
   "cell_type": "code",
   "execution_count": null,
   "source": [
    "res[0].remainderzero"
   ],
   "outputs": [
    {
     "output_type": "execute_result",
     "data": {
      "text/plain": [
       "<__main__.remainderZeroNode at 0x27110538640>"
      ]
     },
     "metadata": {},
     "execution_count": 203
    }
   ],
   "metadata": {}
  },
  {
   "cell_type": "code",
   "execution_count": null,
   "source": [
    "res2 = list()\r\n",
    "for i in range(len(res)):\r\n",
    "    for attr in res[i].__dict__:\r\n",
    "        res2.append(getattr(attr,res[i]))\r\n"
   ],
   "outputs": [
    {
     "output_type": "error",
     "ename": "TypeError",
     "evalue": "getattr(): attribute name must be string",
     "traceback": [
      "\u001b[1;31m---------------------------------------------------------------------------\u001b[0m",
      "\u001b[1;31mTypeError\u001b[0m                                 Traceback (most recent call last)",
      "\u001b[1;32m<ipython-input-189-1cefa7f27932>\u001b[0m in \u001b[0;36m<module>\u001b[1;34m\u001b[0m\n\u001b[0;32m      2\u001b[0m \u001b[1;32mfor\u001b[0m \u001b[0mi\u001b[0m \u001b[1;32min\u001b[0m \u001b[0mrange\u001b[0m\u001b[1;33m(\u001b[0m\u001b[0mlen\u001b[0m\u001b[1;33m(\u001b[0m\u001b[0mres\u001b[0m\u001b[1;33m)\u001b[0m\u001b[1;33m)\u001b[0m\u001b[1;33m:\u001b[0m\u001b[1;33m\u001b[0m\u001b[1;33m\u001b[0m\u001b[0m\n\u001b[0;32m      3\u001b[0m     \u001b[1;32mfor\u001b[0m \u001b[0mattr\u001b[0m \u001b[1;32min\u001b[0m \u001b[0mres\u001b[0m\u001b[1;33m[\u001b[0m\u001b[0mi\u001b[0m\u001b[1;33m]\u001b[0m\u001b[1;33m.\u001b[0m\u001b[0m__dict__\u001b[0m\u001b[1;33m:\u001b[0m\u001b[1;33m\u001b[0m\u001b[1;33m\u001b[0m\u001b[0m\n\u001b[1;32m----> 4\u001b[1;33m         \u001b[0mres2\u001b[0m\u001b[1;33m.\u001b[0m\u001b[0mappend\u001b[0m\u001b[1;33m(\u001b[0m\u001b[0mgetattr\u001b[0m\u001b[1;33m(\u001b[0m\u001b[0mattr\u001b[0m\u001b[1;33m,\u001b[0m\u001b[0mres\u001b[0m\u001b[1;33m[\u001b[0m\u001b[0mi\u001b[0m\u001b[1;33m]\u001b[0m\u001b[1;33m)\u001b[0m\u001b[1;33m)\u001b[0m\u001b[1;33m\u001b[0m\u001b[1;33m\u001b[0m\u001b[0m\n\u001b[0m",
      "\u001b[1;31mTypeError\u001b[0m: getattr(): attribute name must be string"
     ]
    }
   ],
   "metadata": {}
  },
  {
   "cell_type": "code",
   "execution_count": null,
   "source": [
    "list(res[0].__dict__.keys())[1:-1]"
   ],
   "outputs": [
    {
     "output_type": "execute_result",
     "data": {
      "text/plain": [
       "['remainderzero', 'remainderone', 'remaindertwo']"
      ]
     },
     "metadata": {},
     "execution_count": 206
    }
   ],
   "metadata": {}
  },
  {
   "cell_type": "code",
   "execution_count": 2,
   "source": [
    "A = [1,2,3,5,6]\r\n",
    "level = 1\r\n",
    "n = 3\r\n",
    "\r\n",
    "for i in range(-1*(len(A) - 1),-1*(n - level) + 1):\r\n",
    "    print(A[i:])\r\n",
    "    print(A[i - 1])\r\n",
    "\r\n",
    "\r\n"
   ],
   "outputs": [
    {
     "output_type": "stream",
     "name": "stdout",
     "text": [
      "[2, 3, 5, 6]\n",
      "1\n",
      "[3, 5, 6]\n",
      "2\n",
      "[5, 6]\n",
      "3\n"
     ]
    }
   ],
   "metadata": {}
  },
  {
   "cell_type": "code",
   "execution_count": 7,
   "source": [
    "def print_candidates(A,level,candidate_size):\r\n",
    "    if level < candidate_size:\r\n",
    "        for i in range(-1*(len(A) - 1),-1*(candidate_size - level) + 1):\r\n",
    "            print(A[i - 1],A[1:])\r\n",
    "            print_candidates(A[i:],level + 1, candidate_size)\r\n",
    "    #print(A)\r\n",
    "\r\n",
    "print_candidates(A,level,n)"
   ],
   "outputs": [
    {
     "output_type": "stream",
     "name": "stdout",
     "text": [
      "1 [2, 3, 5, 6]\n",
      "2 [3, 5, 6]\n",
      "3 [3, 5, 6]\n",
      "5 [3, 5, 6]\n",
      "2 [2, 3, 5, 6]\n",
      "3 [5, 6]\n",
      "5 [5, 6]\n",
      "3 [2, 3, 5, 6]\n",
      "5 [6]\n"
     ]
    }
   ],
   "metadata": {}
  },
  {
   "cell_type": "code",
   "execution_count": 8,
   "source": [
    "33%7"
   ],
   "outputs": [
    {
     "output_type": "execute_result",
     "data": {
      "text/plain": [
       "5"
      ]
     },
     "metadata": {},
     "execution_count": 8
    }
   ],
   "metadata": {}
  },
  {
   "cell_type": "code",
   "execution_count": 24,
   "source": [
    "a = set()\r\n",
    "a.add(\"A\")\r\n",
    "a.add(\"B\")\r\n",
    "a.add(\"C\")\r\n",
    "a"
   ],
   "outputs": [
    {
     "output_type": "execute_result",
     "data": {
      "text/plain": [
       "{'A', 'B', 'C'}"
      ]
     },
     "metadata": {},
     "execution_count": 24
    }
   ],
   "metadata": {}
  },
  {
   "cell_type": "code",
   "execution_count": 22,
   "source": [
    "set(\"A\").issubset(a)"
   ],
   "outputs": [
    {
     "output_type": "execute_result",
     "data": {
      "text/plain": [
       "True"
      ]
     },
     "metadata": {},
     "execution_count": 22
    }
   ],
   "metadata": {}
  },
  {
   "cell_type": "code",
   "execution_count": 27,
   "source": [
    "for i in {'B','C'}:\r\n",
    "    a.remove(i)\r\n",
    "a"
   ],
   "outputs": [
    {
     "output_type": "execute_result",
     "data": {
      "text/plain": [
       "{'A'}"
      ]
     },
     "metadata": {},
     "execution_count": 27
    }
   ],
   "metadata": {}
  },
  {
   "cell_type": "code",
   "execution_count": 17,
   "source": [
    "from itertools import chain, combinations"
   ],
   "outputs": [],
   "metadata": {}
  },
  {
   "cell_type": "code",
   "execution_count": 20,
   "source": [
    "list(chain.from_iterable(combinations({\"E\",\"B\",\"A\"}, r) for r in range(1, len({\"E\",\"B\",\"A\"}))))"
   ],
   "outputs": [
    {
     "output_type": "execute_result",
     "data": {
      "text/plain": [
       "[('E',), ('A',), ('B',), ('E', 'A'), ('E', 'B'), ('A', 'B')]"
      ]
     },
     "metadata": {},
     "execution_count": 20
    }
   ],
   "metadata": {}
  },
  {
   "cell_type": "code",
   "execution_count": 30,
   "source": [
    "from collections import Counter\r\n",
    "count1 = Counter()\r\n",
    "count1.update([1,2,3,4,2,3,1])\r\n",
    "count1"
   ],
   "outputs": [
    {
     "output_type": "execute_result",
     "data": {
      "text/plain": [
       "Counter({1: 2, 2: 2, 3: 2, 4: 1})"
      ]
     },
     "metadata": {},
     "execution_count": 30
    }
   ],
   "metadata": {}
  },
  {
   "cell_type": "code",
   "execution_count": 31,
   "source": [
    "import numpy as np\r\n",
    "\r\n",
    "conf = np.array([3/7,4/5,6/7,2/6,2/5])\r\n",
    "interest = np.array([0.214,0.72,0.771,0.167,0.2])\r\n",
    "\r\n",
    "mean_conf = np.mean(conf)\r\n",
    "mean_interest = np.mean(interest)\r\n",
    "\r\n",
    "(np.matmul((conf - mean_conf),np.transpose((interest - mean_interest))))/(len(conf)*np.std(conf)*np.std(interest))"
   ],
   "outputs": [
    {
     "output_type": "execute_result",
     "data": {
      "text/plain": [
       "0.9960892595090772"
      ]
     },
     "metadata": {},
     "execution_count": 31
    }
   ],
   "metadata": {}
  },
  {
   "cell_type": "code",
   "execution_count": 36,
   "source": [
    "conf = np.array([3/7,4/5,6/7,2/6,2/5])\r\n",
    "kl = np.array([-0.039,-0.063,-0.033,-0.075,-0.045])\r\n",
    "\r\n",
    "mean_conf = np.mean(conf)\r\n",
    "mean_kl = np.mean(kl)\r\n",
    "\r\n",
    "(np.matmul((conf - mean_conf),np.transpose((kl - mean_kl))))/(len(conf)*np.std(conf)*np.std(kl))"
   ],
   "outputs": [
    {
     "output_type": "execute_result",
     "data": {
      "text/plain": [
       "0.3133486529753013"
      ]
     },
     "metadata": {},
     "execution_count": 36
    }
   ],
   "metadata": {}
  },
  {
   "cell_type": "code",
   "execution_count": 39,
   "source": [
    "(np.matmul((conf - mean_conf),np.transpose((kl - mean_kl))))"
   ],
   "outputs": [
    {
     "output_type": "execute_result",
     "data": {
      "text/plain": [
       "0.0053714285714285695"
      ]
     },
     "metadata": {},
     "execution_count": 39
    }
   ],
   "metadata": {}
  },
  {
   "cell_type": "code",
   "execution_count": 40,
   "source": [
    "np.transpose((kl - mean_kl))"
   ],
   "outputs": [
    {
     "output_type": "execute_result",
     "data": {
      "text/plain": [
       "array([ 0.012, -0.012,  0.018, -0.024,  0.006])"
      ]
     },
     "metadata": {},
     "execution_count": 40
    }
   ],
   "metadata": {}
  },
  {
   "cell_type": "code",
   "execution_count": 44,
   "source": [
    "import scipy.stats as sp\r\n",
    "\r\n",
    "\r\n"
   ],
   "outputs": [],
   "metadata": {}
  },
  {
   "cell_type": "code",
   "execution_count": 45,
   "source": [
    "sp.mstats.pearsonr(conf,kl)"
   ],
   "outputs": [
    {
     "output_type": "execute_result",
     "data": {
      "text/plain": [
       "(0.31334865297530134, 0.6076607404884304)"
      ]
     },
     "metadata": {},
     "execution_count": 45
    }
   ],
   "metadata": {}
  },
  {
   "cell_type": "code",
   "execution_count": 41,
   "source": [
    "(kl - mean_kl)"
   ],
   "outputs": [
    {
     "output_type": "execute_result",
     "data": {
      "text/plain": [
       "array([ 0.012, -0.012,  0.018, -0.024,  0.006])"
      ]
     },
     "metadata": {},
     "execution_count": 41
    }
   ],
   "metadata": {}
  },
  {
   "cell_type": "code",
   "execution_count": null,
   "source": [
    "(kl - mean_kl)"
   ],
   "outputs": [
    {
     "data": {
      "text/plain": [
       "array([ 0.012, -0.012,  0.018, -0.024,  0.006])"
      ]
     },
     "metadata": {},
     "output_type": "display_data"
    }
   ],
   "metadata": {}
  },
  {
   "cell_type": "code",
   "execution_count": null,
   "source": [],
   "outputs": [],
   "metadata": {}
  }
 ],
 "metadata": {
  "orig_nbformat": 4,
  "language_info": {
   "name": "python",
   "version": "3.8.8",
   "mimetype": "text/x-python",
   "codemirror_mode": {
    "name": "ipython",
    "version": 3
   },
   "pygments_lexer": "ipython3",
   "nbconvert_exporter": "python",
   "file_extension": ".py"
  },
  "kernelspec": {
   "name": "python3",
   "display_name": "Python 3.8.8 64-bit"
  },
  "interpreter": {
   "hash": "965ba1120b0c101b3f715b6e258a73742ec1cf86f2c8b04492724c87d9f112c3"
  }
 },
 "nbformat": 4,
 "nbformat_minor": 2
}