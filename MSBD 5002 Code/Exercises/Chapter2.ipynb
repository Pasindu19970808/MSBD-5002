{
 "cells": [
  {
   "cell_type": "code",
   "execution_count": 9,
   "source": [
    "import numpy as np\r\n",
    "import pandas as pd"
   ],
   "outputs": [],
   "metadata": {}
  },
  {
   "cell_type": "code",
   "execution_count": 2,
   "source": [
    "age = np.array([13, 15, 16, 16, 19, 20, 20, 21, 22, 22, 25, 25, 25, 25, 30,\r\n",
    "33, 33, 35, 35, 35, 35, 36, 40, 45, 46, 52, 70])"
   ],
   "outputs": [],
   "metadata": {}
  },
  {
   "cell_type": "code",
   "execution_count": 3,
   "source": [
    "np.mean(age)"
   ],
   "outputs": [
    {
     "output_type": "execute_result",
     "data": {
      "text/plain": [
       "29.962962962962962"
      ]
     },
     "metadata": {},
     "execution_count": 3
    }
   ],
   "metadata": {}
  },
  {
   "cell_type": "code",
   "execution_count": 4,
   "source": [
    "np.median(age)"
   ],
   "outputs": [
    {
     "output_type": "execute_result",
     "data": {
      "text/plain": [
       "25.0"
      ]
     },
     "metadata": {},
     "execution_count": 4
    }
   ],
   "metadata": {}
  },
  {
   "cell_type": "code",
   "execution_count": 6,
   "source": [
    "from collections import Counter\r\n",
    "Counter(age).most_common()"
   ],
   "outputs": [
    {
     "output_type": "execute_result",
     "data": {
      "text/plain": [
       "[(25, 4),\n",
       " (35, 4),\n",
       " (16, 2),\n",
       " (20, 2),\n",
       " (22, 2),\n",
       " (33, 2),\n",
       " (13, 1),\n",
       " (15, 1),\n",
       " (19, 1),\n",
       " (21, 1),\n",
       " (30, 1),\n",
       " (36, 1),\n",
       " (40, 1),\n",
       " (45, 1),\n",
       " (46, 1),\n",
       " (52, 1),\n",
       " (70, 1)]"
      ]
     },
     "metadata": {},
     "execution_count": 6
    }
   ],
   "metadata": {}
  },
  {
   "cell_type": "markdown",
   "source": [
    "Data is bimodal"
   ],
   "metadata": {}
  },
  {
   "cell_type": "code",
   "execution_count": 8,
   "source": [
    "#midrange value is the average of the maximum and minimum values\r\n",
    "midrange_value = (np.max(age) + np.min(age))/2\r\n",
    "midrange_value"
   ],
   "outputs": [
    {
     "output_type": "execute_result",
     "data": {
      "text/plain": [
       "41.5"
      ]
     },
     "metadata": {},
     "execution_count": 8
    }
   ],
   "metadata": {}
  },
  {
   "cell_type": "code",
   "execution_count": 34,
   "source": [
    "def find_quartile(np_array, quartile):\r\n",
    "    if isinstance(quartile,list):\r\n",
    "        result = list()\r\n",
    "        for quart in quartile:\r\n",
    "            if ((quart*(np_array.shape[0]))%1 == 0):\r\n",
    "                result.append(np_array[int(quart*(np_array.shape[0] + 1)) - 1])\r\n",
    "            else:\r\n",
    "                res =  (np_array[int(np.floor(quart*(np_array.shape[0] + 1))) - 1] + np_array[int(np.ceil(quart*(np_array.shape[0] + 1))) - 1])/2\r\n",
    "                result.append(res)\r\n",
    "        return result\r\n",
    "    elif isinstance(quartile, float):\r\n",
    "        if ((quartile*(np_array.shape[0]))%1 == 0):\r\n",
    "                return np_array[int(quartile*(np_array.shape[0] + 1)) - 1]\r\n",
    "        else:\r\n",
    "            return  (np_array[int(np.floor(quartile*(np_array.shape[0] + 1))) - 1] + np_array[int(np.ceil(quartile*(np_array.shape[0] + 1))) - 1])/2\r\n",
    "            \r\n",
    "    else:\r\n",
    "        TypeError('List or integer for quartile')\r\n",
    "\r\n"
   ],
   "outputs": [],
   "metadata": {}
  },
  {
   "cell_type": "code",
   "execution_count": 36,
   "source": [
    "find_quartile(age,[0.25,0.5,0.75])"
   ],
   "outputs": [
    {
     "output_type": "execute_result",
     "data": {
      "text/plain": [
       "[20.0, 25.0, 35.0]"
      ]
     },
     "metadata": {},
     "execution_count": 36
    }
   ],
   "metadata": {}
  },
  {
   "cell_type": "code",
   "execution_count": 51,
   "source": [
    "np.sqrt(np.sum(np.array([(i - np.mean(age))**2 for i in age]))/age.shape[0])"
   ],
   "outputs": [
    {
     "output_type": "execute_result",
     "data": {
      "text/plain": [
       "12.700193878606099"
      ]
     },
     "metadata": {},
     "execution_count": 51
    }
   ],
   "metadata": {}
  },
  {
   "cell_type": "code",
   "execution_count": 59,
   "source": [
    "age = \"23 23 27 27 39 41 47 49 50 52 54 54 56 57 58 58 60 61\"\r\n",
    "fat = \"9.5 26.5 7.8 17.8 31.4 25.9 27.4 27.2 31.2 34.6 42.5 28.8 33.4 30.2 34.1 32.9 41.2 35.7\"\r\n",
    "\r\n",
    "fat = np.array([float(i) for i in fat.split(\" \")])\r\n",
    "age = np.array([float(i) for i in age.split(\" \")])"
   ],
   "outputs": [],
   "metadata": {}
  },
  {
   "cell_type": "code",
   "execution_count": 64,
   "source": [
    "find_quartile(fat,[0.5])"
   ],
   "outputs": [
    {
     "output_type": "execute_result",
     "data": {
      "text/plain": [
       "[31.2]"
      ]
     },
     "metadata": {},
     "execution_count": 64
    }
   ],
   "metadata": {}
  },
  {
   "cell_type": "code",
   "execution_count": 63,
   "source": [
    "(fat[int(np.floor(0.5*(fat.shape[0] + 1))) - 1] + fat[int(np.ceil(0.5*(fat.shape[0] + 1))) - 1])/2"
   ],
   "outputs": [
    {
     "output_type": "execute_result",
     "data": {
      "text/plain": [
       "32.9"
      ]
     },
     "metadata": {},
     "execution_count": 63
    }
   ],
   "metadata": {}
  },
  {
   "cell_type": "code",
   "execution_count": null,
   "source": [],
   "outputs": [],
   "metadata": {}
  }
 ],
 "metadata": {
  "orig_nbformat": 4,
  "language_info": {
   "name": "python",
   "version": "3.8.8",
   "mimetype": "text/x-python",
   "codemirror_mode": {
    "name": "ipython",
    "version": 3
   },
   "pygments_lexer": "ipython3",
   "nbconvert_exporter": "python",
   "file_extension": ".py"
  },
  "kernelspec": {
   "name": "python3",
   "display_name": "Python 3.8.8 64-bit"
  },
  "interpreter": {
   "hash": "965ba1120b0c101b3f715b6e258a73742ec1cf86f2c8b04492724c87d9f112c3"
  }
 },
 "nbformat": 4,
 "nbformat_minor": 2
}