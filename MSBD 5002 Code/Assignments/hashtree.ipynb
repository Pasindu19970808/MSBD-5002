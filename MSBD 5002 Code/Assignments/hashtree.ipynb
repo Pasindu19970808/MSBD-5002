{
 "cells": [
  {
   "cell_type": "code",
   "execution_count": 15,
   "source": [
    "import re\r\n",
    "candidates = '{1 2 3 }, {1 4 5}, {1 2 4}, {1 2 5}, {1 5 9}, {1 3 6},{2 3 4}, {2 5 9},{3 4 5}, {3 5 6}, {3 5 9}, {3 8 9}, {3 2 6},{4 5 7}, {4 1 8}, {4 7 8}, {4 6 7},{6 1 3}, {6 3 4}, {6 8 9}, {6 2 1}, {6 4 3}, {6 7 9},{8 2 4}, {8 9 1}, {8 3 6}, {8 3 7}, {8 4 7}, {8 5 1}, {8 3 1}, {8 6 2}'\r\n",
    "\r\n",
    "res = [int(i) for i in re.findall(r'[^{},]',candidates) if i != ' ']\r\n",
    "interval = int(len(res)/3)\r\n",
    "res_final = [res[3*int(i):3*int(i+1)] for i in range(0,interval)]"
   ],
   "outputs": [],
   "metadata": {}
  },
  {
   "cell_type": "code",
   "execution_count": 16,
   "source": [
    "res_final"
   ],
   "outputs": [
    {
     "output_type": "execute_result",
     "data": {
      "text/plain": [
       "[[1, 2, 3],\n",
       " [1, 4, 5],\n",
       " [1, 2, 4],\n",
       " [1, 2, 5],\n",
       " [1, 5, 9],\n",
       " [1, 3, 6],\n",
       " [2, 3, 4],\n",
       " [2, 5, 9],\n",
       " [3, 4, 5],\n",
       " [3, 5, 6],\n",
       " [3, 5, 9],\n",
       " [3, 8, 9],\n",
       " [3, 2, 6],\n",
       " [4, 5, 7],\n",
       " [4, 1, 8],\n",
       " [4, 7, 8],\n",
       " [4, 6, 7],\n",
       " [6, 1, 3],\n",
       " [6, 3, 4],\n",
       " [6, 8, 9],\n",
       " [6, 2, 1],\n",
       " [6, 4, 3],\n",
       " [6, 7, 9],\n",
       " [8, 2, 4],\n",
       " [8, 9, 1],\n",
       " [8, 3, 6],\n",
       " [8, 3, 7],\n",
       " [8, 4, 7],\n",
       " [8, 5, 1],\n",
       " [8, 3, 1],\n",
       " [8, 6, 2]]"
      ]
     },
     "metadata": {},
     "execution_count": 16
    }
   ],
   "metadata": {}
  },
  {
   "cell_type": "code",
   "execution_count": null,
   "source": [
    "[[1,2,3],[1,4,5], [1,2,4], [1,2,5], [1,5,9], [1,3,6],\r\n",
    "{2 3 4}, {2 5 9}\r\n",
    "{3 4 5}, {3 5 6}, {3 5 9}, {3 8 9}, {3 2 6}\r\n",
    "{4 5 7}, {4 1 8}, {4 7 8}, {4 6 7},\r\n",
    "{6 1 3}, {6 3 4}, {6 8 9}, {6 2 1}, {6 4 3}, {6 7 9}\r\n",
    "{8 2 4}, {8 9 1}, {8 3 6}, {8 3 7}, {8 4 7}, {8 5 1}, {8 3 1}, {8 6 2}"
   ],
   "outputs": [],
   "metadata": {}
  }
 ],
 "metadata": {
  "orig_nbformat": 4,
  "language_info": {
   "name": "python",
   "version": "3.8.8",
   "mimetype": "text/x-python",
   "codemirror_mode": {
    "name": "ipython",
    "version": 3
   },
   "pygments_lexer": "ipython3",
   "nbconvert_exporter": "python",
   "file_extension": ".py"
  },
  "kernelspec": {
   "name": "python3",
   "display_name": "Python 3.8.8 64-bit"
  },
  "interpreter": {
   "hash": "965ba1120b0c101b3f715b6e258a73742ec1cf86f2c8b04492724c87d9f112c3"
  }
 },
 "nbformat": 4,
 "nbformat_minor": 2
}