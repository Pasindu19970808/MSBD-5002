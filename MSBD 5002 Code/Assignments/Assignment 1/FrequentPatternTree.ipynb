{
 "cells": [
  {
   "cell_type": "code",
   "execution_count": 3,
   "source": [
    "from collections import Counter\r\n",
    "import csv"
   ],
   "outputs": [],
   "metadata": {}
  },
  {
   "cell_type": "code",
   "execution_count": 36,
   "source": [
    "\"\"\" transaction_dict = {}\r\n",
    "transaction_dict[100] = ['a','c','d','f','g','i','m','p']\r\n",
    "transaction_dict[200] = ['a','b','c','f','i','m','o']\r\n",
    "transaction_dict[300] = ['b','f','h','j','o']\r\n",
    "transaction_dict[400] = ['b','c','k','s','p']\r\n",
    "transaction_dict[500] = ['a','c','e','f','l','m','n','p']\r\n",
    "transaction_dict \"\"\"\r\n",
    "i = 1\r\n",
    "transaction_dict = {}\r\n",
    "with open('./DataSetA.csv', newline = '\\n') as datafile:\r\n",
    "    datareader = csv.reader(datafile)\r\n",
    "    for row in datareader:\r\n",
    "        transaction_dict[i] = [j.strip() for j in row if j != '']\r\n",
    "        i += 1\r\n",
    "\r\n",
    "count1 = Counter()\r\n",
    "for transaction in transaction_dict:\r\n",
    "    count1.update(transaction_dict[transaction])\r\n",
    "\r\n",
    "final_counts = {i[0]:i[1] for i in sorted(count1.items(), key = lambda x: x[1],reverse=True) if i[1] >= 2500}\r\n",
    "final_counts\r\n",
    "\r\n",
    "for transaction in transaction_dict:\r\n",
    "    transaction_dict[transaction] = sorted([i for i in transaction_dict[transaction] if i in final_counts.keys()],key = lambda x: final_counts[x], reverse= True)\r\n",
    "transaction_dict\r\n",
    "\r\n",
    "edges_set = set()\r\n",
    "for transaction in transaction_dict:\r\n",
    "    for i in range(len(transaction_dict[transaction])-1):\r\n",
    "        if i == 0:\r\n",
    "            edges_set.add(('root',transaction_dict[transaction][i]))\r\n",
    "            edges_set.add((transaction_dict[transaction][i],transaction_dict[transaction][i+1]))\r\n",
    "        else:\r\n",
    "            edges_set.add((transaction_dict[transaction][i],transaction_dict[transaction][i+1]))\r\n",
    "#sorted(edges_set, key = lambda x: final_counts[x[0]], reverse=True)\r\n",
    "edges_set"
   ],
   "outputs": [
    {
     "output_type": "execute_result",
     "data": {
      "text/plain": [
       "{('Bread', 'Butter'),\n",
       " ('Bread', 'Cheese'),\n",
       " ('Bread', 'Lassi'),\n",
       " ('Bread', 'Panner'),\n",
       " ('Bread', 'Sugar'),\n",
       " ('Bread', 'Sweet'),\n",
       " ('Bread', 'Tea Powder'),\n",
       " ('Butter', 'Cheese'),\n",
       " ('Butter', 'Lassi'),\n",
       " ('Butter', 'Panner'),\n",
       " ('Butter', 'Tea Powder'),\n",
       " ('Cheese', 'Lassi'),\n",
       " ('Cheese', 'Panner'),\n",
       " ('Cheese', 'Tea Powder'),\n",
       " ('Coffee Powder', 'Bread'),\n",
       " ('Coffee Powder', 'Butter'),\n",
       " ('Coffee Powder', 'Cheese'),\n",
       " ('Coffee Powder', 'Lassi'),\n",
       " ('Coffee Powder', 'Panner'),\n",
       " ('Coffee Powder', 'Sugar'),\n",
       " ('Coffee Powder', 'Sweet'),\n",
       " ('Coffee Powder', 'Tea Powder'),\n",
       " ('Coffee Powder', 'Yougurt'),\n",
       " ('Ghee', 'Bread'),\n",
       " ('Ghee', 'Butter'),\n",
       " ('Ghee', 'Cheese'),\n",
       " ('Ghee', 'Coffee Powder'),\n",
       " ('Ghee', 'Lassi'),\n",
       " ('Ghee', 'Panner'),\n",
       " ('Ghee', 'Sugar'),\n",
       " ('Ghee', 'Sweet'),\n",
       " ('Ghee', 'Tea Powder'),\n",
       " ('Ghee', 'Yougurt'),\n",
       " ('Lassi', 'Tea Powder'),\n",
       " ('Milk', 'Bread'),\n",
       " ('Milk', 'Butter'),\n",
       " ('Milk', 'Cheese'),\n",
       " ('Milk', 'Coffee Powder'),\n",
       " ('Milk', 'Ghee'),\n",
       " ('Milk', 'Lassi'),\n",
       " ('Milk', 'Panner'),\n",
       " ('Milk', 'Sugar'),\n",
       " ('Milk', 'Sweet'),\n",
       " ('Milk', 'Tea Powder'),\n",
       " ('Milk', 'Yougurt'),\n",
       " ('Panner', 'Lassi'),\n",
       " ('Panner', 'Tea Powder'),\n",
       " ('Sugar', 'Butter'),\n",
       " ('Sugar', 'Cheese'),\n",
       " ('Sugar', 'Lassi'),\n",
       " ('Sugar', 'Panner'),\n",
       " ('Sugar', 'Tea Powder'),\n",
       " ('Sweet', 'Butter'),\n",
       " ('Sweet', 'Cheese'),\n",
       " ('Sweet', 'Lassi'),\n",
       " ('Sweet', 'Panner'),\n",
       " ('Sweet', 'Sugar'),\n",
       " ('Sweet', 'Tea Powder'),\n",
       " ('Yougurt', 'Bread'),\n",
       " ('Yougurt', 'Butter'),\n",
       " ('Yougurt', 'Cheese'),\n",
       " ('Yougurt', 'Lassi'),\n",
       " ('Yougurt', 'Panner'),\n",
       " ('Yougurt', 'Sugar'),\n",
       " ('Yougurt', 'Sweet'),\n",
       " ('Yougurt', 'Tea Powder'),\n",
       " ('root', 'Bread'),\n",
       " ('root', 'Butter'),\n",
       " ('root', 'Cheese'),\n",
       " ('root', 'Coffee Powder'),\n",
       " ('root', 'Ghee'),\n",
       " ('root', 'Lassi'),\n",
       " ('root', 'Milk'),\n",
       " ('root', 'Panner'),\n",
       " ('root', 'Sugar'),\n",
       " ('root', 'Sweet'),\n",
       " ('root', 'Yougurt')}"
      ]
     },
     "metadata": {},
     "execution_count": 36
    }
   ],
   "metadata": {}
  },
  {
   "cell_type": "code",
   "execution_count": 6,
   "source": [
    "transaction_dict1 = {}\r\n",
    "transaction_dict1[100] = ['a','c','d','f','g','i','m','p']\r\n",
    "transaction_dict1[200] = ['a','b','c','f','i','m','o']\r\n",
    "transaction_dict1[300] = ['b','f','h','j','o']\r\n",
    "transaction_dict1[400] = ['b','c','k','s','p']\r\n",
    "transaction_dict1[500] = ['a','c','e','f','l','m','n','p']\r\n",
    "transaction_dict1\r\n",
    "\r\n",
    "for transaction1 in transaction_dict1:\r\n",
    "    transaction_dict1[transaction1].insert(0,'root')\r\n",
    "transaction_dict1\r\n",
    "\r\n",
    "count2 = Counter()\r\n",
    "for transaction1 in transaction_dict1:\r\n",
    "    count2.update(transaction_dict1[transaction1])\r\n",
    "\r\n",
    "final_counts1 = {i[0]:i[1] for i in sorted(count2.items(), key = lambda x: x[1],reverse=True) if i[1] >= 3}\r\n",
    "final_counts1\r\n",
    "\r\n",
    "for transaction1 in transaction_dict1:\r\n",
    "    transaction_dict1[transaction1] = sorted([i for i in transaction_dict1[transaction1] if i in final_counts1.keys()],key = lambda x: final_counts1[x], reverse= True)\r\n",
    "transaction_dict1"
   ],
   "outputs": [
    {
     "output_type": "execute_result",
     "data": {
      "text/plain": [
       "{100: ['root', 'c', 'f', 'a', 'm', 'p'],\n",
       " 200: ['root', 'c', 'f', 'a', 'b', 'm'],\n",
       " 300: ['root', 'f', 'b'],\n",
       " 400: ['root', 'c', 'b', 'p'],\n",
       " 500: ['root', 'c', 'f', 'a', 'm', 'p']}"
      ]
     },
     "metadata": {},
     "execution_count": 6
    }
   ],
   "metadata": {}
  },
  {
   "cell_type": "code",
   "execution_count": null,
   "source": [
    "test = {}\r\n",
    "test[100] = ['a','c','d','f','g','i','m','p']\r\n",
    "test[200] = ['a','b','c','f','i','m','o']\r\n",
    "test[300] = ['b','f','h','j','o']\r\n",
    "test[400] = ['b','c','k','s','p']\r\n",
    "test[500] = ['a','c','e','f','l','m','n','p']\r\n",
    "test"
   ],
   "outputs": [],
   "metadata": {}
  },
  {
   "cell_type": "code",
   "execution_count": 334,
   "source": [
    "class Node:\r\n",
    "    def __init__(self,name,frequency,parent,parent_obj = None):\r\n",
    "        self.name = name\r\n",
    "        self.count = frequency\r\n",
    "        self.parent_name = parent\r\n",
    "        self.parent = parent_obj\r\n",
    "        self.children = []\r\n",
    "        self.children_label = []\r\n",
    "        self.leaf = False\r\n",
    "\r\n",
    "    def increment(self):\r\n",
    "        self.count += 1"
   ],
   "outputs": [],
   "metadata": {}
  },
  {
   "cell_type": "code",
   "execution_count": 335,
   "source": [
    "#This function accepts a dictionary of transaction where the key is the Transaction ID and values are the list of items in that transaction\r\n",
    "def get_item_frequency(transaction_dict):\r\n",
    "    count = Counter()\r\n",
    "    for transaction in transaction_dict:\r\n",
    "        count.update(transaction_dict[transaction])\r\n",
    "    return transaction_dict,count\r\n",
    "#This function takes the result of function \"get_item_frequency\" and removes all items below the support value from the transaction dictionary\r\n",
    "def remove_items_below_sup(transaction_dict,count,support):\r\n",
    "    final_counts = {i[0]:i[1] for i in sorted(count.items(), key = lambda x: x[1],reverse=True) if i[1] >= support}\r\n",
    "    final_counts_idx_order = dict(zip(final_counts.keys(),range(len(final_counts.keys()))))\r\n",
    "    for transaction in transaction_dict:\r\n",
    "        transaction_dict[transaction] = sorted([i for i in transaction_dict[transaction] if (i in final_counts.keys())],key = lambda x: final_counts_idx_order[x])\r\n",
    "    return transaction_dict,final_counts, final_counts_idx_order"
   ],
   "outputs": [],
   "metadata": {}
  },
  {
   "cell_type": "code",
   "execution_count": 336,
   "source": [
    "#traverse one transaction\r\n",
    "def traverse_one_transaction(transaction,root_node,currentidx,start = False):\r\n",
    "    if  (currentidx < len(transaction)) and (len(transaction) >= 1):\r\n",
    "        # If we are just starting a new transaction update, then Start = True \r\n",
    "        # And if the first transaction is not in the root_node.children_label, \r\n",
    "        # It means that it is a new path. REMEMBER that here the root_node.name is #\"Null\" meaning that we are at the root still\r\n",
    "        if (start is True) and (transaction[currentidx] not in root_node.children_label):\r\n",
    "            child_node = Node(transaction[currentidx],0,'Null')\r\n",
    "            root_node.children_label.append(transaction[currentidx])\r\n",
    "            root_node.children.append(child_node)\r\n",
    "        #The below lines of code serves for cases where the transaction item is not \r\n",
    "        # a child of the root_node, meaning that it is a new path \r\n",
    "        # Hence we create a new node and add it to the root_node\r\n",
    "        if transaction[currentidx] not in root_node.children_label:\r\n",
    "            child_node = Node(transaction[currentidx],0,root_node.name,root_node)\r\n",
    "            root_node.children_label.append(transaction[currentidx])\r\n",
    "            root_node.children.append(child_node)\r\n",
    "            idx = root_node.children_label.index(transaction[currentidx])\r\n",
    "            root_node.children[idx].increment()\r\n",
    "            traverse_one_transaction(transaction,root_node.children[idx],currentidx + 1)\r\n",
    "            #create a child node, add the child label to root_node's children_label and add the node as a tuple (label, node) to root_node.children\r\n",
    "        else:\r\n",
    "            #find index of child in root_node.children_label\r\n",
    "            #use the index to find and update the child in the root_node.children\r\n",
    "            idx = root_node.children_label.index(transaction[currentidx])\r\n",
    "            root_node.children[idx].increment()\r\n",
    "            #Now we can recursively move along the path of the transaction\r\n",
    "            traverse_one_transaction(transaction,root_node.children[idx],currentidx + 1)\r\n",
    "    else:\r\n",
    "        if(len(transaction) >= 1) and (len(root_node.children) == 0):\r\n",
    "            root_node.leaf = True"
   ],
   "outputs": [],
   "metadata": {}
  },
  {
   "cell_type": "code",
   "execution_count": 337,
   "source": [
    "def create_fp_tree(transaction_dict):\r\n",
    "    root_node = Node('Null',1,None)\r\n",
    "    for trans in transaction_dict:\r\n",
    "        traverse_one_transaction(transaction = transaction_dict[trans],root_node = root_node, currentidx = 0,start = True)\r\n",
    "    return root_node"
   ],
   "outputs": [],
   "metadata": {}
  },
  {
   "cell_type": "code",
   "execution_count": 356,
   "source": [
    "\"\"\" i = 1\r\n",
    "transaction_dict = {}\r\n",
    "with open('./DataSetA.csv', newline = '\\n') as datafile:\r\n",
    "    datareader = csv.reader(datafile)\r\n",
    "    for row in datareader:\r\n",
    "        transaction_dict[i] = [j.strip() for j in row if j != '']\r\n",
    "        i += 1 \"\"\"\r\n",
    "transaction_dict = {}\r\n",
    "transaction_dict[1] = ['A','B']\r\n",
    "transaction_dict[2] = ['B','C','D']\r\n",
    "transaction_dict[3] = ['A','C','D','E']\r\n",
    "transaction_dict[4] = ['A','D','E']\r\n",
    "transaction_dict[5] = ['A','B','C']\r\n",
    "transaction_dict[6] = ['A','C','D','E']\r\n",
    "transaction_dict"
   ],
   "outputs": [
    {
     "output_type": "execute_result",
     "data": {
      "text/plain": [
       "{1: ['A', 'B'],\n",
       " 2: ['B', 'C', 'D'],\n",
       " 3: ['A', 'C', 'D', 'E'],\n",
       " 4: ['A', 'D', 'E'],\n",
       " 5: ['A', 'B', 'C'],\n",
       " 6: ['A', 'C', 'D', 'E']}"
      ]
     },
     "metadata": {},
     "execution_count": 356
    }
   ],
   "metadata": {}
  },
  {
   "cell_type": "code",
   "execution_count": 357,
   "source": [
    "test_dict,count = get_item_frequency(transaction_dict)\r\n",
    "test_dict,final_counts, final_counts_idx_order = remove_items_below_sup(test_dict,count,2)\r\n",
    "fp_tree = create_fp_tree(test_dict)"
   ],
   "outputs": [],
   "metadata": {}
  },
  {
   "cell_type": "code",
   "execution_count": 364,
   "source": [
    "test_dict"
   ],
   "outputs": [
    {
     "output_type": "execute_result",
     "data": {
      "text/plain": [
       "{1: ['A', 'B'],\n",
       " 2: ['C', 'D', 'B'],\n",
       " 3: ['A', 'C', 'D', 'E'],\n",
       " 4: ['A', 'D', 'E'],\n",
       " 5: ['A', 'C', 'B'],\n",
       " 6: ['A', 'C', 'D', 'E']}"
      ]
     },
     "metadata": {},
     "execution_count": 364
    }
   ],
   "metadata": {}
  },
  {
   "cell_type": "code",
   "execution_count": 363,
   "source": [
    "fp_tree.children[0].children[1].count"
   ],
   "outputs": [
    {
     "output_type": "execute_result",
     "data": {
      "text/plain": [
       "3"
      ]
     },
     "metadata": {},
     "execution_count": 363
    }
   ],
   "metadata": {}
  },
  {
   "cell_type": "code",
   "execution_count": 354,
   "source": [
    "test_dict"
   ],
   "outputs": [
    {
     "output_type": "execute_result",
     "data": {
      "text/plain": [
       "{1: ['A', 'B'],\n",
       " 2: ['B', 'C', 'D'],\n",
       " 3: ['A', 'C', 'D', 'E'],\n",
       " 4: ['A', 'D', 'E'],\n",
       " 5: ['A', 'B', 'C']}"
      ]
     },
     "metadata": {},
     "execution_count": 354
    }
   ],
   "metadata": {}
  },
  {
   "cell_type": "code",
   "execution_count": null,
   "source": [
    "item = \"E\"\r\n",
    "cond_tree_paths = list()\r\n",
    "def build_conditional_tree(item,cnd_tree_list,fp_tree):\r\n",
    "    for child in fp_tree.children:\r\n",
    "        if child.name == item:\r\n",
    "            #As identical transactions can occur multiple times, we have to repeat addition of a path sometimes\r\n",
    "            #Hence we make a counter\r\n",
    "            transaction_counts = child.count\r\n",
    "            while count <= transaction_counts:\r\n",
    "                count = 1\r\n",
    "                single_transaction = list()\r\n",
    "                while child.parent != \"Null\":\r\n",
    "                    single_transaction.append((child.name,1))\r\n",
    "                    child = child.parent\r\n",
    "                cond_tree_paths.append(single_transaction)\r\n",
    "            #build_conditional_tree(item,cnd_tree_list,)\r\n",
    "        else:\r\n",
    "            build_conditional_tree(item,cnd_tree_list,child)\r\n"
   ],
   "outputs": [],
   "metadata": {}
  },
  {
   "cell_type": "code",
   "execution_count": 366,
   "source": [
    "import copy\r\n",
    "test = [\"A\",\"B\",\"C\"]\r\n",
    "test1 = copy.deepcopy(test)\r\n",
    "del test1\r\n",
    "test\r\n",
    "test1"
   ],
   "outputs": [
    {
     "output_type": "error",
     "ename": "NameError",
     "evalue": "name 'test1' is not defined",
     "traceback": [
      "\u001b[1;31m---------------------------------------------------------------------------\u001b[0m",
      "\u001b[1;31mNameError\u001b[0m                                 Traceback (most recent call last)",
      "\u001b[1;32m<ipython-input-366-2abbcea25c65>\u001b[0m in \u001b[0;36m<module>\u001b[1;34m\u001b[0m\n\u001b[0;32m      4\u001b[0m \u001b[1;32mdel\u001b[0m \u001b[0mtest1\u001b[0m\u001b[1;33m\u001b[0m\u001b[1;33m\u001b[0m\u001b[0m\n\u001b[0;32m      5\u001b[0m \u001b[0mtest\u001b[0m\u001b[1;33m\u001b[0m\u001b[1;33m\u001b[0m\u001b[0m\n\u001b[1;32m----> 6\u001b[1;33m \u001b[0mtest1\u001b[0m\u001b[1;33m\u001b[0m\u001b[1;33m\u001b[0m\u001b[0m\n\u001b[0m",
      "\u001b[1;31mNameError\u001b[0m: name 'test1' is not defined"
     ]
    }
   ],
   "metadata": {}
  },
  {
   "cell_type": "code",
   "execution_count": 369,
   "source": [
    "Counter(((1,2)))"
   ],
   "outputs": [
    {
     "output_type": "execute_result",
     "data": {
      "text/plain": [
       "Counter({1: 1, 2: 1})"
      ]
     },
     "metadata": {},
     "execution_count": 369
    }
   ],
   "metadata": {}
  },
  {
   "cell_type": "code",
   "execution_count": 370,
   "source": [],
   "outputs": [],
   "metadata": {}
  },
  {
   "cell_type": "code",
   "execution_count": 372,
   "source": [
    "list({\"A\",\"B\",\"C\"})"
   ],
   "outputs": [
    {
     "output_type": "execute_result",
     "data": {
      "text/plain": [
       "['B', 'A', 'C']"
      ]
     },
     "metadata": {},
     "execution_count": 372
    }
   ],
   "metadata": {}
  },
  {
   "cell_type": "code",
   "execution_count": null,
   "source": [],
   "outputs": [],
   "metadata": {}
  }
 ],
 "metadata": {
  "orig_nbformat": 4,
  "language_info": {
   "name": "python",
   "version": "3.8.8",
   "mimetype": "text/x-python",
   "codemirror_mode": {
    "name": "ipython",
    "version": 3
   },
   "pygments_lexer": "ipython3",
   "nbconvert_exporter": "python",
   "file_extension": ".py"
  },
  "kernelspec": {
   "name": "python3",
   "display_name": "Python 3.8.8 64-bit"
  },
  "interpreter": {
   "hash": "965ba1120b0c101b3f715b6e258a73742ec1cf86f2c8b04492724c87d9f112c3"
  }
 },
 "nbformat": 4,
 "nbformat_minor": 2
}